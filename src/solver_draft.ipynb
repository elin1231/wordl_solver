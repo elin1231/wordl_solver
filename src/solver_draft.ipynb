{
 "cells": [
  {
   "cell_type": "code",
   "execution_count": null,
   "metadata": {},
   "outputs": [],
   "source": [
    "with open(\"../data/sgb-words.txt\") as f:\n",
    "    lines = f.readlines()\n",
    "\n",
    "for i in range(len(lines)):\n",
    "    lines[i] = lines[i].strip()\n",
    "\n",
    "filtered = [\n",
    "    w\n",
    "    for w in lines\n",
    "    if (w.startswith(\"e\") or w.endswith(\"e\"))\n",
    "    and (not \"e\" in w[1:4])\n",
    "    and (not \"i\" in w[2:4])\n",
    "    and (not \"n\" in w[3:])\n",
    "]\n",
    "\n",
    "eliminated = \"aduopsbg\"\n",
    "filtered = [w for w in filtered if not any(c in w for c in eliminated)]\n",
    "\n",
    "contained = \"ien\"\n",
    "filtered = [w for w in filtered if all(c in w for c in contained)]\n",
    "# p = r'([])'\n",
    "print(len(filtered))\n",
    "print(filtered)\n"
   ]
  }
 ],
 "metadata": {
  "language_info": {
   "name": "python"
  },
  "orig_nbformat": 4
 },
 "nbformat": 4,
 "nbformat_minor": 2
}
