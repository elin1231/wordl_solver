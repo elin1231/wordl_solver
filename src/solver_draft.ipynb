{
 "cells": [
  {
   "cell_type": "code",
   "execution_count": 5,
   "metadata": {},
   "outputs": [],
   "source": [
    "# Game configs\n",
    "maxGuesses = 6\n",
    "guess = 'adieu' # initial guess"
   ]
  },
  {
   "cell_type": "code",
   "execution_count": 4,
   "metadata": {},
   "outputs": [],
   "source": [
    "ans = 'wince'"
   ]
  },
  {
   "cell_type": "code",
   "execution_count": null,
   "metadata": {},
   "outputs": [],
   "source": [
    "class NotInDictionary(Exception):\n",
    "    pass \n",
    "\n",
    "class WordleGuesser:\n",
    "    def __init__(self,hardMode=False,maxGuesses=6):\n",
    "        \n",
    "        # === Get dictionary ===\n",
    "        with open(\"../data/sgb-words.txt\") as f:\n",
    "            words = f.readlines()\n",
    "        for i in range(len(words)):\n",
    "            words[i] = words[i].strip()\n",
    "\n",
    "        self.dictionary = words\n",
    "        self.potentialAns = words # make a second copy of the words\n",
    "        if len(self.potentialAns)==0:\n",
    "            print('The answer is not in the dictionary.')\n",
    "        \n",
    "        # === Game config ===\n",
    "        self.maxGuesses = maxGuesses\n",
    "        self.hardMode = hardMode\n",
    "\n",
    "        # === Game simulation init ===\n",
    "        self.initGuessBank = ['crane','salet','stear','irate','adieu']\n",
    "        self.guessed = []\n",
    "        self.nGuessed = 0\n",
    "        self.correctSpot = {}\n",
    "        self.wrongSpot = {}\n",
    "        self.eliminated = []\n",
    "    \n",
    "    def suggestGuess(self):\n",
    "        guess = self.potentialAns[0]\n",
    "\n",
    "        self.guessed.append(guess)\n",
    "        self.nGuessed+=1\n",
    "\n",
    "        return guess\n",
    "    \n",
    "    def askForResult(self):\n",
    "        self.results.append(list(input()))\n",
    "        \n",
    "    def eliminateWords(self):\n",
    "        self.potentialAns = [w for w in self.potentialAns if not any(c in w for c in self.eliminated)]\n",
    "\n",
    "        self.potentialAns = [w for w in self.potentialAns if all(c in w for c in self.wrongSpot.keys())]\n",
    "        self.potentialAns = [w for w in self.potentialAns if all(w[p]!=k for k,p in self.wrongSpot.items())]\n",
    "\n",
    "        self.potentialAns = [w for w in self.potentialAns if all(w[p]==k for k,p in self.correctSpot.items())]\n",
    "        "
   ]
  },
  {
   "cell_type": "code",
   "execution_count": 13,
   "metadata": {},
   "outputs": [],
   "source": [
    "with open(\"../data/sgb-words.txt\") as f:\n",
    "    words = f.readlines()\n",
    "for i in range(len(words)):\n",
    "    words[i] = words[i].strip()"
   ]
  },
  {
   "cell_type": "code",
   "execution_count": 14,
   "metadata": {},
   "outputs": [
    {
     "data": {
      "text/plain": [
       "['bring',\n",
       " 'barge',\n",
       " 'grubs',\n",
       " 'grabs',\n",
       " 'rugby',\n",
       " 'brags',\n",
       " 'garbs',\n",
       " 'brung',\n",
       " 'brigs',\n",
       " 'burgs',\n",
       " 'grebe',\n",
       " 'bergs',\n",
       " 'giber']"
      ]
     },
     "execution_count": 14,
     "metadata": {},
     "output_type": "execute_result"
    }
   ],
   "source": [
    "wanted = 'bgr'\n",
    "words = [w for w in words if 2<sum(c in w for c in wanted)]\n",
    "words"
   ]
  },
  {
   "cell_type": "code",
   "execution_count": 2,
   "metadata": {},
   "outputs": [],
   "source": [
    "with open(\"../data/sgb-words.txt\") as f:\n",
    "    words = f.readlines()\n",
    "for i in range(len(words)):\n",
    "    words[i] = words[i].strip()"
   ]
  },
  {
   "cell_type": "code",
   "execution_count": 1,
   "metadata": {},
   "outputs": [],
   "source": [
    "eliminated = \"tracepontslmy\"\n",
    "contained = {'i':2}\n",
    "green = {}\n"
   ]
  },
  {
   "cell_type": "code",
   "execution_count": 3,
   "metadata": {},
   "outputs": [],
   "source": [
    "words = [w for w in words if not any(c in w for c in eliminated)]\n",
    "\n",
    "words = [w for w in words if all(c in w for c in contained.keys())]\n",
    "words = [w for w in words if all(w[p]!=k for k,p in contained.items())]\n",
    "\n",
    "words = [w for w in words if all(w[p]==k for k,p in green.items())]"
   ]
  },
  {
   "cell_type": "code",
   "execution_count": 4,
   "metadata": {},
   "outputs": [
    {
     "data": {
      "text/plain": [
       "['vivid']"
      ]
     },
     "execution_count": 4,
     "metadata": {},
     "output_type": "execute_result"
    }
   ],
   "source": [
    "words"
   ]
  },
  {
   "cell_type": "code",
   "execution_count": null,
   "metadata": {},
   "outputs": [],
   "source": []
  }
 ],
 "metadata": {
  "interpreter": {
   "hash": "2ff398735b840e154b8cbd654a97af1eda1e82713cbff18c7e563bf43d4f2a36"
  },
  "kernelspec": {
   "display_name": "Python 3.9.7 64-bit",
   "language": "python",
   "name": "python3"
  },
  "language_info": {
   "codemirror_mode": {
    "name": "ipython",
    "version": 3
   },
   "file_extension": ".py",
   "mimetype": "text/x-python",
   "name": "python",
   "nbconvert_exporter": "python",
   "pygments_lexer": "ipython3",
   "version": "3.9.7"
  },
  "orig_nbformat": 4
 },
 "nbformat": 4,
 "nbformat_minor": 2
}
